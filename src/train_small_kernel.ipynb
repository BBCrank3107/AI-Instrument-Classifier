{
 "cells": [
  {
   "cell_type": "markdown",
   "metadata": {},
   "source": [
    "### Train model với kernel_size = 1"
   ]
  },
  {
   "cell_type": "markdown",
   "metadata": {},
   "source": [
    "### 1. Import Thư viện\n",
    "- `json`, `os`: Xử lý file và thư mục\n",
    "- `librosa`: Xử lý tín hiệu âm thanh\n",
    "- `numpy`: Tính toán ma trận\n",
    "- `tensorflow`: Framework deep learning"
   ]
  },
  {
   "cell_type": "code",
   "execution_count": null,
   "metadata": {},
   "outputs": [],
   "source": [
    "import json\n",
    "import os\n",
    "import librosa\n",
    "import numpy as np\n",
    "import tensorflow as tf\n",
    "from tensorflow.keras import layers, models"
   ]
  },
  {
   "cell_type": "markdown",
   "metadata": {},
   "source": [
    "### 2. Định nghĩa Đường dẫn và Tải Metadata\n",
    "- Định nghĩa đường dẫn đến các thư mục dữ liệu: train, test, validation\n",
    "- Hàm `load_metadata`: Tải thông tin từ file JSON chứa metadata"
   ]
  },
  {
   "cell_type": "code",
   "execution_count": null,
   "metadata": {},
   "outputs": [],
   "source": [
    "data_dir = {\n",
    "    'train': r'D:\\Python\\AI-Instrument-Classifier\\datasets\\nsynth-train',\n",
    "    'test': r'D:\\Python\\AI-Instrument-Classifier\\datasets\\nsynth-test',\n",
    "    'valid': r'D:\\Python\\AI-Instrument-Classifier\\datasets\\nsynth-valid'\n",
    "}\n",
    "\n",
    "def load_metadata(split='train'):\n",
    "    json_path = os.path.join(data_dir[split], 'examples.json')\n",
    "    if not os.path.isfile(json_path):\n",
    "        raise FileNotFoundError(f\"Không tìm thấy file tại: {json_path}\")\n",
    "    with open(json_path, 'r') as f:\n",
    "        metadata = json.load(f)\n",
    "    return metadata"
   ]
  },
  {
   "cell_type": "markdown",
   "metadata": {},
   "source": [
    "### 3. Tiền xử lý Âm thanh\n",
    "- Hàm `preprocess_audio`: \n",
    "  - Chuẩn hóa độ dài audio\n",
    "  - Chuyển đổi thành Mel Spectrogram\n",
    "  - Chuyển sang đơn vị dB"
   ]
  },
  {
   "cell_type": "code",
   "execution_count": null,
   "metadata": {},
   "outputs": [],
   "source": [
    "def preprocess_audio(audio, max_length=16000, n_mels=128, hop_length=512):\n",
    "    if len(audio) > max_length:\n",
    "        audio = audio[:max_length]\n",
    "    else:\n",
    "        audio = np.pad(audio, (0, max_length - len(audio)), 'constant')\n",
    "    \n",
    "    mel_spec = librosa.feature.melspectrogram(y=audio, sr=16000, n_mels=n_mels, hop_length=hop_length)\n",
    "    mel_spec_db = librosa.power_to_db(mel_spec, ref=np.max)\n",
    "    return mel_spec_db"
   ]
  },
  {
   "cell_type": "markdown",
   "metadata": {},
   "source": [
    "### 4. Generator Dữ liệu\n",
    "- Hàm `data_generator`: \n",
    "  - Tạo generator để sinh dữ liệu theo batch\n",
    "  - Trả về Mel Spectrogram và nhãn (instrument family)"
   ]
  },
  {
   "cell_type": "code",
   "execution_count": null,
   "metadata": {},
   "outputs": [],
   "source": [
    "# Generator dữ liệu\n",
    "def data_generator(metadata, split='train'):\n",
    "    for note_str, info in metadata.items():\n",
    "        audio_path = os.path.join(data_dir[split], 'audio', f'{note_str}.wav')\n",
    "        audio, sr = librosa.load(audio_path, sr=16000)\n",
    "        mel_spec = preprocess_audio(audio)\n",
    "        label = info['instrument_family']\n",
    "        yield mel_spec[..., np.newaxis], label"
   ]
  },
  {
   "cell_type": "markdown",
   "metadata": {},
   "source": [
    "### 5. Chuẩn bị Dataset\n",
    "- Tạo `tf.data.Dataset` cho train và validation\n",
    "- Batch size: 64\n",
    "- Sử dụng `prefetch` để tối ưu hiệu suất"
   ]
  },
  {
   "cell_type": "code",
   "execution_count": null,
   "metadata": {},
   "outputs": [],
   "source": [
    "train_metadata = load_metadata('train')\n",
    "valid_metadata = load_metadata('valid')\n",
    "\n",
    "train_dataset = tf.data.Dataset.from_generator(\n",
    "    lambda: data_generator(train_metadata, 'train'),\n",
    "    output_types=(tf.float32, tf.int32),\n",
    "    output_shapes=([128, 32, 1], [])\n",
    ").batch(64).repeat().prefetch(tf.data.AUTOTUNE)\n",
    "\n",
    "valid_dataset = tf.data.Dataset.from_generator(\n",
    "    lambda: data_generator(valid_metadata, 'valid'),\n",
    "    output_types=(tf.float32, tf.int32),\n",
    "    output_shapes=([128, 32, 1], [])\n",
    ").batch(64).repeat().prefetch(tf.data.AUTOTUNE)"
   ]
  },
  {
   "cell_type": "markdown",
   "metadata": {},
   "source": [
    "### 6. Xây dựng Mô hình ResNet\n",
    "- Hàm `residual_block`: Khối residual cơ bản\n",
    "- Hàm `build_resnet_small`: \n",
    "  - Input: Mel Spectrogram (128x32x1)\n",
    "  - Output: 11 lớp (số loại nhạc cụ)\n",
    "  - Sử dụng L2 regularization và Dropout để giảm overfitting"
   ]
  },
  {
   "cell_type": "code",
   "execution_count": null,
   "metadata": {},
   "outputs": [],
   "source": [
    "def residual_block(x, filters, kernel_size=3):\n",
    "    y = layers.Conv2D(filters, kernel_size, padding='same', activation='relu',\n",
    "                      kernel_regularizer=tf.keras.regularizers.l2(0.002))(x)\n",
    "    y = layers.Conv2D(filters, kernel_size, padding='same',\n",
    "                      kernel_regularizer=tf.keras.regularizers.l2(0.002))(y)\n",
    "    shortcut = layers.Conv2D(filters, 1, padding='same')(x) if x.shape[-1] != filters else x\n",
    "    y = layers.Add()([shortcut, y])\n",
    "    y = layers.Activation('relu')(y)\n",
    "    return y\n",
    "\n",
    "def build_resnet_small(input_shape=(128, 32, 1), num_classes=11):\n",
    "    inputs = layers.Input(shape=input_shape)\n",
    "    x = layers.Conv2D(16, (1, 1), padding='same', activation='relu',\n",
    "                      kernel_regularizer=tf.keras.regularizers.l2(0.002))(inputs)\n",
    "    x = layers.MaxPooling2D((2, 2))(x)\n",
    "    \n",
    "    x = residual_block(x, 16, kernel_size=1)   # Thay đổi kernel_size=1\n",
    "    x = residual_block(x, 32, kernel_size=1)\n",
    "    x = layers.MaxPooling2D((2, 2))(x)\n",
    "    x = residual_block(x, 64, kernel_size=1)\n",
    "    \n",
    "    x = layers.GlobalAveragePooling2D()(x)\n",
    "    x = layers.Dense(256, activation='relu',\n",
    "                     kernel_regularizer=tf.keras.regularizers.l2(0.002))(x)\n",
    "    x = layers.Dropout(0.5)(x)\n",
    "    outputs = layers.Dense(num_classes, activation='softmax')(x)\n",
    "    \n",
    "    return models.Model(inputs, outputs)"
   ]
  },
  {
   "cell_type": "markdown",
   "metadata": {},
   "source": [
    "### 7. Huấn luyện và Lưu Mô hình\n",
    "- Compile với:\n",
    "  - Optimizer: Adam (lr=0.003)\n",
    "  - Loss: sparse_categorical_crossentropy\n",
    "  - Metric: accuracy\n",
    "- Callback:\n",
    "  - EarlyStopping: Dừng sớm nếu val_loss không cải thiện sau 7 epochs\n",
    "  - ReduceLROnPlateau: Giảm learning rate khi val_loss không cải thiện\n",
    "- Lưu mô hình vào file `.h5`"
   ]
  },
  {
   "cell_type": "code",
   "execution_count": null,
   "metadata": {},
   "outputs": [],
   "source": [
    "# Khởi tạo mô hình\n",
    "model = build_resnet_small()\n",
    "optimizer = tf.keras.optimizers.Adam(learning_rate=0.003)\n",
    "model.compile(optimizer='adam', loss='sparse_categorical_crossentropy', metrics=['accuracy'])\n",
    "\n",
    "# Tính số bước\n",
    "train_steps = len(train_metadata) // 64\n",
    "valid_steps = len(valid_metadata) // 64\n",
    "\n",
    "# Huấn luyện\n",
    "history = model.fit(\n",
    "    train_dataset,\n",
    "    validation_data=valid_dataset,\n",
    "    epochs=9,\n",
    "    steps_per_epoch=train_steps,\n",
    "    validation_steps=valid_steps,\n",
    "    callbacks=[\n",
    "        tf.keras.callbacks.EarlyStopping(monitor='val_loss', patience=7),\n",
    "        tf.keras.callbacks.ReduceLROnPlateau(monitor='val_loss', factor=0.5, patience=1, min_lr=1e-6)\n",
    "    ]\n",
    ")\n",
    "\n",
    "# Đường dẫn lưu mô hình\n",
    "model_save_path = r'D:\\Python\\AI-Instrument-Classifier\\models\\resnet_mel_instrument_classifier.h5'\n",
    "os.makedirs(os.path.dirname(model_save_path), exist_ok=True)\n",
    "model.save(model_save_path)\n",
    "print(f\"Đã huấn luyện xong và lưu mô hình tại: {model_save_path}\")"
   ]
  }
 ],
 "metadata": {
  "kernelspec": {
   "display_name": "Python 3",
   "language": "python",
   "name": "python3"
  },
  "language_info": {
   "codemirror_mode": {
    "name": "ipython",
    "version": 3
   },
   "file_extension": ".py",
   "mimetype": "text/x-python",
   "name": "python",
   "nbconvert_exporter": "python",
   "pygments_lexer": "ipython3",
   "version": "3.8.10"
  }
 },
 "nbformat": 4,
 "nbformat_minor": 2
}
